{
 "cells": [
  {
   "cell_type": "code",
   "execution_count": 98,
   "metadata": {},
   "outputs": [
    {
     "data": {
      "text/html": [
       "<div>\n",
       "<style scoped>\n",
       "    .dataframe tbody tr th:only-of-type {\n",
       "        vertical-align: middle;\n",
       "    }\n",
       "\n",
       "    .dataframe tbody tr th {\n",
       "        vertical-align: top;\n",
       "    }\n",
       "\n",
       "    .dataframe thead th {\n",
       "        text-align: right;\n",
       "    }\n",
       "</style>\n",
       "<table border=\"1\" class=\"dataframe\">\n",
       "  <thead>\n",
       "    <tr style=\"text-align: right;\">\n",
       "      <th></th>\n",
       "      <th>twardość</th>\n",
       "      <th>Stan</th>\n",
       "      <th>C</th>\n",
       "    </tr>\n",
       "  </thead>\n",
       "  <tbody>\n",
       "    <tr>\n",
       "      <th>0</th>\n",
       "      <td>343</td>\n",
       "      <td>Lany</td>\n",
       "      <td>0.8</td>\n",
       "    </tr>\n",
       "    <tr>\n",
       "      <th>1</th>\n",
       "      <td>298</td>\n",
       "      <td>Lany</td>\n",
       "      <td>0.8</td>\n",
       "    </tr>\n",
       "    <tr>\n",
       "      <th>2</th>\n",
       "      <td>336</td>\n",
       "      <td>Lany</td>\n",
       "      <td>0.8</td>\n",
       "    </tr>\n",
       "    <tr>\n",
       "      <th>3</th>\n",
       "      <td>337</td>\n",
       "      <td>Lany</td>\n",
       "      <td>0.8</td>\n",
       "    </tr>\n",
       "    <tr>\n",
       "      <th>4</th>\n",
       "      <td>392</td>\n",
       "      <td>Lany</td>\n",
       "      <td>0.8</td>\n",
       "    </tr>\n",
       "    <tr>\n",
       "      <th>...</th>\n",
       "      <td>...</td>\n",
       "      <td>...</td>\n",
       "      <td>...</td>\n",
       "    </tr>\n",
       "    <tr>\n",
       "      <th>93</th>\n",
       "      <td>430</td>\n",
       "      <td>Lany</td>\n",
       "      <td>1.2</td>\n",
       "    </tr>\n",
       "    <tr>\n",
       "      <th>94</th>\n",
       "      <td>451</td>\n",
       "      <td>Lany</td>\n",
       "      <td>1.2</td>\n",
       "    </tr>\n",
       "    <tr>\n",
       "      <th>95</th>\n",
       "      <td>436</td>\n",
       "      <td>Lany</td>\n",
       "      <td>1.2</td>\n",
       "    </tr>\n",
       "    <tr>\n",
       "      <th>96</th>\n",
       "      <td>427</td>\n",
       "      <td>Lany</td>\n",
       "      <td>1.2</td>\n",
       "    </tr>\n",
       "    <tr>\n",
       "      <th>97</th>\n",
       "      <td>435</td>\n",
       "      <td>Lany</td>\n",
       "      <td>1.2</td>\n",
       "    </tr>\n",
       "  </tbody>\n",
       "</table>\n",
       "<p>98 rows × 3 columns</p>\n",
       "</div>"
      ],
      "text/plain": [
       "    twardość  Stan    C\n",
       "0        343  Lany  0.8\n",
       "1        298  Lany  0.8\n",
       "2        336  Lany  0.8\n",
       "3        337  Lany  0.8\n",
       "4        392  Lany  0.8\n",
       "..       ...   ...  ...\n",
       "93       430  Lany  1.2\n",
       "94       451  Lany  1.2\n",
       "95       436  Lany  1.2\n",
       "96       427  Lany  1.2\n",
       "97       435  Lany  1.2\n",
       "\n",
       "[98 rows x 3 columns]"
      ]
     },
     "execution_count": 98,
     "metadata": {},
     "output_type": "execute_result"
    }
   ],
   "source": [
    "import pandas as pd\n",
    "import scipy.stats as st\n",
    "import matplotlib.pyplot as plt\n",
    "import numpy as np\n",
    "from sklearn.linear_model import LinearRegression\n",
    "import seaborn as sns\n",
    "# import statsmodels.api as sm\n",
    "# from statsmodels.formula.api import ols\n",
    "from bioinfokit.analys import stat\n",
    "dane = pd.read_excel(\"B:/pobrane/Macierze_Twardości (1).xlsx\")\n",
    "dane\n",
    "pom = dane.drop(0)\n",
    "p = pom[\"Lany\"].tolist()\n",
    "a= pom[\"Kuty\"].tolist()\n",
    "b = pom[\"Lany.1\"].tolist()\n",
    "c = pom[\"Kuty.1\"].tolist()\n",
    "r = np.concatenate([p,b])\n",
    "r1 = np.concatenate([a,c])\n",
    "pom2 = pd.DataFrame({\"twardość\":r})\n",
    "pom3 = pd.DataFrame({\"twardość\":r1})\n",
    "p = [\"Lany\" for x in range(0,49)]\n",
    "a = [\"Kuty\" for x in range(0,49)]\n",
    "b = [\"Lany\" for x in range(0,49)]\n",
    "c = [\"Kuty\" for x in range(0,49)]\n",
    "r = np.concatenate([p,b])\n",
    "r1 = np.concatenate([a,c])\n",
    "pom2[\"Stan\"] = r\n",
    "pom3[\"Stan\"] = r1\n",
    "p = [0.8 for x in range(0,49)]\n",
    "a = [1.2 for x in range(0,49)]\n",
    "b = [0.8 for x in range(0,49)]\n",
    "c = [1.2 for x in range(0,49)]\n",
    "r = np.concatenate([p,a])\n",
    "r1 = np.concatenate([b,c])\n",
    "pom2[\"C\"] = r\n",
    "pom3[\"C\"] = r1\n",
    "pom2"
   ]
  },
  {
   "cell_type": "code",
   "execution_count": 101,
   "metadata": {},
   "outputs": [
    {
     "data": {
      "text/plain": [
       "[]"
      ]
     },
     "execution_count": 101,
     "metadata": {},
     "output_type": "execute_result"
    },
    {
     "data": {
      "image/png": "[encoded data removed]",
      "text/plain": [
       "<Figure size 640x480 with 1 Axes>"
      ]
     },
     "metadata": {},
     "output_type": "display_data"
    }
   ],
   "source": [
    "df_melt = pd.melt(pom2.reset_index(),id_vars=[\"C\"],value_vars=[\"twardość\"])\n",
    "df_melt2 = pd.melt(pom3.reset_index(),id_vars=[\"C\"],value_vars=[\"twardość\"])\n",
    "ax = sns.boxplot(x='C', y='value', data=df_melt, color='#99c2a2')\n",
    "ax = sns.swarmplot(x=\"C\", y=\"value\", data=df_melt, color='#7d0013')\n",
    "ax = sns.boxplot(x='C', y='value', data=df_melt2, color='blue')\n",
    "ax = sns.swarmplot(x=\"C\", y=\"value\", data=df_melt2, color='orange')\n",
    "plt.plot()"
   ]
  },
  {
   "cell_type": "code",
   "execution_count": 103,
   "metadata": {},
   "outputs": [
    {
     "name": "stdout",
     "output_type": "stream",
     "text": [
      "p=0.7700852261263589\n",
      "Wariancje nie są zdecydowanie różne, spełniają standardowe założenia\n"
     ]
    }
   ],
   "source": [
    "g1 = pom[\"Lany\"].tolist()\n",
    "g2 = pom[\"Kuty\"].tolist()\n",
    "g3 = pom[\"Lany.1\"].tolist()\n",
    "g4 = pom[\"Kuty.1\"].tolist()\n",
    "t,p = st.levene(g1,g2,g3,g4)\n",
    "print(f\"{p=}\")\n",
    "if p < 0.05:\n",
    "    print(\"Wariancje są zdecydowanie różne, zatem nie spełniają podstawowych założeń\")\n",
    "else:\n",
    "    print(\"Wariancje nie są zdecydowanie różne, spełniają standardowe założenia\")"
   ]
  },
  {
   "cell_type": "markdown",
   "metadata": {},
   "source": [
    "Test spełnia podane założenia, wraz ze wzrostem zawartości węgla rośnie twardość, a wraz ze zmianą stanu z lanego na kuty twardość wyraźnie się zwiększa"
   ]
  }
 ],
 "metadata": {
  "kernelspec": {
   "display_name": "Python 3 (ipykernel)",
   "language": "python",
   "name": "python3"
  },
  "language_info": {
   "codemirror_mode": {
    "name": "ipython",
    "version": 3
   },
   "file_extension": ".py",
   "mimetype": "text/x-python",
   "name": "python",
   "nbconvert_exporter": "python",
   "pygments_lexer": "ipython3",
   "version": "3.8.16"
  }
 },
 "nbformat": 4,
 "nbformat_minor": 1
}
