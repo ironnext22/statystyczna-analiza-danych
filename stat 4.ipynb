{
 "cells": [
  {
   "cell_type": "markdown",
   "source": [
    "# Zadanie 1\n",
    "\n",
    "H0 - średni czas pracy bateri wynosi 35\n",
    "H1 - średni czas pracy baterii nie wynosi 35"
   ],
   "metadata": {
    "collapsed": false
   }
  },
  {
   "cell_type": "code",
   "execution_count": 1,
   "metadata": {
    "collapsed": true
   },
   "outputs": [
    {
     "name": "stdout",
     "output_type": "stream",
     "text": [
      "Średnia: 34.515333333333324\n",
      "t = -0.625790453948021\n",
      "p_value = 0.5415206438042331\n",
      "t_krytyczne = 1.7613101357748562\n",
      "\n",
      " Na podstawie uzyskanych wyników można stwierdzić, że baterie pracujś przeciętnie 35h, zatem H0 jest poprawne\n"
     ]
    }
   ],
   "source": [
    "from scipy.stats import ttest_1samp\n",
    "from scipy.stats import t\n",
    "import numpy as np\n",
    "w = [35.34,  36.26,  30.54,  38.2, 37.59,  39.18,  33.16,  34.23,  27.9,  36.33,  32.39,  34.89,  35.7, 31.99, 34.03]\n",
    "stat, p_value = ttest_1samp(w, 35)\n",
    "print(f\"Średnia: {np.mean(w)}\")\n",
    "print(f\"t = {stat}\")\n",
    "print(f\"p_value = {p_value}\")\n",
    "t_krytyczne = t.ppf(0.95,14)\n",
    "print(f\"t_krytyczne = {t_krytyczne}\")\n",
    "\n",
    "print(\"\\n Na podstawie uzyskanych wyników można stwierdzić, że baterie pracujś przeciętnie 35h, zatem H0 jest poprawne\")"
   ]
  },
  {
   "cell_type": "markdown",
   "source": [
    "# Zadanie 2\n",
    "H0 - zredukowanie prędkości statków nie zmniejszyło zużycia paliwa\n",
    "H1 - zredukowanie prędkości statków zmniejsza zużycie paliwa"
   ],
   "metadata": {
    "collapsed": false
   }
  },
  {
   "cell_type": "code",
   "execution_count": 2,
   "outputs": [
    {
     "name": "stdout",
     "output_type": "stream",
     "text": [
      "t = -9.010634513141104\n",
      "p = 0.0008400116674834279\n",
      "t_krytyczne = 3.7469473879811366\n",
      "\n",
      " t jest większe od t_krytycznego, zatem wartość zużywanego paliwa jest mniejsza od średniej, co obala hipotezę H0\n"
     ]
    }
   ],
   "source": [
    "from scipy import stats\n",
    "w = [101.1, 105.7, 102.6, 113.4, 98.1]\n",
    "a = 0.01\n",
    "x = np.mean(w)\n",
    "s = np.std(w,ddof=1)\n",
    "m = 127.7\n",
    "n = len(w)\n",
    "t = (x - m)/(s/np.sqrt(n))\n",
    "p = stats.t.sf(np.abs(t),n-1)*2\n",
    "print(f\"t = {t}\")\n",
    "print(f\"p = {p}\")\n",
    "t_krytyczne = stats.t.ppf(1-a,4)\n",
    "print(f\"t_krytyczne = {t_krytyczne}\")\n",
    "\n",
    "print(\"\\n t jest większe od t_krytycznego, zatem wartość zużywanego paliwa jest mniejsza od średniej, co obala hipotezę H0\")"
   ],
   "metadata": {
    "collapsed": false
   }
  },
  {
   "cell_type": "markdown",
   "source": [
    "# Zadanie 3\n",
    "H0 - wyniki klasy I i II są takie same\n",
    "H1 - wyniki klasy I i II są różne"
   ],
   "metadata": {
    "collapsed": false
   }
  },
  {
   "cell_type": "code",
   "execution_count": 3,
   "outputs": [
    {
     "name": "stdout",
     "output_type": "stream",
     "text": [
      "stat = -0.37485674217427345\n",
      "p = 0.710928263964922\n",
      "Nie ma statystycznej różnicy, co potwierdza hipotezę H0\n",
      "\n",
      "Klasa 1:\n",
      "W = 0.9398660659790039  , p = 0.3806891143321991\n",
      "Klasa 2:\n",
      "W = 0.9795103073120117  , p = 0.981628954410553\n",
      "\n",
      "Histogramy dla obu klas są rozkładem normalnym ponieważ w obu przypadkach p>0.05\n"
     ]
    }
   ],
   "source": [
    "from scipy.stats import ttest_ind\n",
    "klasa1 = [3.71, 4.28, 2.95, 3.2, 3.38, 4.05, 4.07, 4.98, 3.2, 3.43, 3.09, 4.5, 3.12, 3.68, 3.9]\n",
    "klasa2 = [3.1, 3.38, 4.06, 3.6, 3.81, 4.5, 4, 3.25, 4.11, 4.85, 2.8, 4]\n",
    "stat,p = ttest_ind(klasa1,klasa2)\n",
    "print(f\"stat = {stat}\")\n",
    "print(f\"p = {p}\")\n",
    "print(\"Nie ma statystycznej różnicy, co potwierdza hipotezę H0\\n\")\n",
    "\n",
    "stat1, p1 = stats.shapiro(klasa1)\n",
    "print(\"Klasa 1:\")\n",
    "print(f\"W = {stat1}  , p = {p1}\")\n",
    "stat2, p2 = stats.shapiro(klasa2)\n",
    "print(\"Klasa 2:\")\n",
    "print(f\"W = {stat2}  , p = {p2}\")\n",
    "\n",
    "print(\"\\nHistogramy dla obu klas są rozkładem normalnym ponieważ w obu przypadkach p>0.05\")"
   ],
   "metadata": {
    "collapsed": false
   }
  },
  {
   "cell_type": "markdown",
   "source": [
    "# Zadanie 4\n",
    "H0 - nie nastąpił spadek emisji pyłów\n",
    "H1 - nastąpił spadek emisji pyłów"
   ],
   "metadata": {
    "collapsed": false
   }
  },
  {
   "cell_type": "code",
   "execution_count": 4,
   "outputs": [
    {
     "name": "stdout",
     "output_type": "stream",
     "text": [
      "stat = 3.286273677873095\n",
      "p = 0.009434293257160336\n",
      "Nastąpił spadek emisji, co zaprzecza H0\n"
     ]
    }
   ],
   "source": [
    "from scipy.stats import ttest_rel\n",
    "r1 = np.array([220,185,270,285,200,295,255,190,225,230])\n",
    "r2 = np.array([190,175,215,260,215,195,260,150,155,175])\n",
    "a = 0.05\n",
    "roznica = r1 - r2\n",
    "stat, p = ttest_rel(r1,r2)\n",
    "print(f\"stat = {stat}\")\n",
    "print(f\"p = {p}\")\n",
    "print(\"Nastąpił spadek emisji, co zaprzecza H0\")"
   ],
   "metadata": {
    "collapsed": false
   }
  },
  {
   "cell_type": "markdown",
   "source": [
    "# Zadanie 5\n",
    "1. Normalność rozkładu\n",
    "    H0 - Zmienna ma rozkład normalnu\n",
    "    H1 - Zmienna nie ma rozkładu normalnego\n",
    "2. Wymogi jakości\n",
    "    H0 - średnia wytrzymałość jest równa 1.2\n",
    "    H1 - średnia wytrzymałość jest różna od 1.2"
   ],
   "metadata": {
    "collapsed": false
   }
  },
  {
   "cell_type": "code",
   "execution_count": 5,
   "outputs": [
    {
     "name": "stdout",
     "output_type": "stream",
     "text": [
      "W = 0.9545872807502747\n",
      "p = 0.44210460782051086\n",
      "Na podstawie otrzymanych wyników można stwierdzić, że rozkład jest normalny\n",
      "\n",
      "Średnia: 1.2754999999999999\n",
      "t = 4.675336553186762\n",
      "p = 0.00016485042767986645\n",
      "Średnia wytrzymałość jest większa od 1.2, zatem H0 jest błędne\n"
     ]
    }
   ],
   "source": [
    "import scipy.stats as stats\n",
    "import numpy as np\n",
    "data = np.array([1.36, 1.14, 1.27, 1.15, 1.20, 1.29, 1.27, 1.18, 1.23, 1.36,\n",
    "                 1.38, 1.37, 1.30, 1.21, 1.33, 1.28, 1.32, 1.29, 1.33, 1.25])\n",
    "alpha = 0.04\n",
    "stat, p = stats.shapiro(data)\n",
    "print(f\"W = {stat}\")\n",
    "print(f\"p = {p}\")\n",
    "print(\"Na podstawie otrzymanych wyników można stwierdzić, że rozkład jest normalny\\n\")\n",
    "\n",
    "n = len(data)\n",
    "mean = np.mean(data)\n",
    "std = np.std(data, ddof=1)\n",
    "print(f\"Średnia: {mean}\")\n",
    "mu = 1.20\n",
    "se = std/np.sqrt(n)\n",
    "t = (mean - mu)/se\n",
    "print(f\"t = {t}\")\n",
    "p2 = stats.t.sf(t,19) * 2\n",
    "print(f\"p = {p2}\")\n",
    "print(\"Średnia wytrzymałość jest większa od 1.2, zatem H0 jest błędne\")"
   ],
   "metadata": {
    "collapsed": false
   }
  }
 ],
 "metadata": {
  "kernelspec": {
   "display_name": "Python 3",
   "language": "python",
   "name": "python3"
  },
  "language_info": {
   "codemirror_mode": {
    "name": "ipython",
    "version": 2
   },
   "file_extension": ".py",
   "mimetype": "text/x-python",
   "name": "python",
   "nbconvert_exporter": "python",
   "pygments_lexer": "ipython2",
   "version": "2.7.6"
  }
 },
 "nbformat": 4,
 "nbformat_minor": 0
}
