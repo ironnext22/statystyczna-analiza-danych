{
 "cells": [
  {
   "cell_type": "markdown",
   "metadata": {},
   "source": [
    "# Zadanie 1\n",
    "Kontrola celna zagranicznych pasażerów przybywających na lotnisko wykazała, że dziennie średnio\n",
    "40 pasażerów przewozi towary niedozwolone, a odchylenie standardowe stanowi 25% poziomu\n",
    "średniej. Jakie jest prawdopodobieństwo tego, że w ciągu 16 losowo wybranych dni średnia liczba\n",
    "pasażerów przewożących towary niedozwolone będzie się zawierała pomiędzy 36 a 45 osób."
   ]
  },
  {
   "cell_type": "code",
   "execution_count": null,
   "metadata": {
    "collapsed": true,
    "pycharm": {
     "is_executing": true
    }
   },
   "outputs": [],
   "source": [
    "from scipy.stats import norm\n",
    "import math\n",
    "import numpy as np\n",
    "z1 = (36-40)/2.5\n",
    "z2 = (45-40)/2.5\n",
    "P = norm.cdf(z2) - norm.cdf(z1)\n",
    "P = round(P*100,2)\n",
    "\n",
    "print(\"Prawdopodobieństwo wynosi: {:.2f}%\".format(P))"
   ]
  },
  {
   "cell_type": "markdown",
   "metadata": {},
   "source": [
    "# Zadanie 2\n",
    "Czas dojazdu do pracy pracowników AGH ma rozkład normalny o wartości oczekiwanej 40min. i\n",
    "odchyleniu standardowym stanowiącym 50% poziomu wartości oczekiwanej. Rozkład czasu dojazdu\n",
    "pracowników UJ jest rozkładem normalnym z wartością oczekiwaną 40min i odchyleniem\n",
    "standardowym równym 25min.\n",
    "Ilu z pośród 100 losowo wybranych pracowników każdej z uczelni poświęca na dojazd, średnio\n",
    "biorąc, więcej niż 42min."
   ]
  },
  {
   "cell_type": "code",
   "execution_count": 2,
   "metadata": {},
   "outputs": [
    {
     "name": "stdout",
     "output_type": "stream",
     "text": [
      "W przypadku AGH średnio 16.0 pracowników poświęca na dojazd więcej niż 42 minut, a w przypadku UJ średnio 21.0 pracowników.\n"
     ]
    }
   ],
   "source": [
    "mA = 40\n",
    "mU = 40\n",
    "osA = mA * 0.5\n",
    "osU = 25\n",
    "n=100\n",
    "\n",
    "uA = (42-mA)/osA*math.sqrt(n)\n",
    "uU = (42-mU)/osU*math.sqrt(n)\n",
    "z1 = 1-norm.cdf(uA)\n",
    "z2 = 1-norm.cdf(uU)\n",
    "print(f\"W przypadku AGH średnio {round(z1*100,0)} pracowników poświęca na dojazd więcej niż 42 minut, a w przypadku UJ średnio {round(z2*100,0)} pracowników.\")"
   ]
  },
  {
   "cell_type": "markdown",
   "metadata": {},
   "source": [
    "# Zadanie 3\n",
    "\n",
    "Zmienna losowa ma rozkład normalny. Z populacji o tym rozkładzie pobrano w sposób losowy 400-\n",
    "elementową próbę. Znaleźć odchylenie standardowe w rozkładzie tej zmiennej, jeżeli wiadomo, że\n",
    "średnia z próby różni się od średniej w populacji o mniej niż 1 z prawdopodobieństwem równym\n",
    "0,6825"
   ]
  },
  {
   "cell_type": "code",
   "execution_count": 3,
   "metadata": {},
   "outputs": [
    {
     "name": "stdout",
     "output_type": "stream",
     "text": [
      "xsr = m +- 1\n",
      "x1 = m - 1 \n",
      "x1 = m + 1 \n",
      "U1 = -20.0/s\n",
      "U2 = 20.0/s\n",
      "Fi(U2) = 0.84125\n",
      "Rozkaład wynosi około 1.0\n",
      "S = 20.00\n"
     ]
    }
   ],
   "source": [
    "from sympy import *\n",
    "n = 400\n",
    "d = 1\n",
    "p = 0.6825\n",
    "sq = np.sqrt(n)\n",
    "m = Symbol(\"m\")\n",
    "print(f\"xsr = {m} +- 1\")\n",
    "print(f\"x1 = {m-1} \")\n",
    "print(f\"x1 = {m+1} \")\n",
    "\n",
    "s = Symbol(\"s\")\n",
    "print(f\"U1 = {(m-1-m)/s*sq}\")\n",
    "print(f\"U2 = {(m+1-m)/s*sq}\")\n",
    "print(f\"Fi(U2) = {(p+1)/2}\")\n",
    "print(f\"Rozkaład wynosi około {round(norm.cdf((p+1)/2),0)}\")\n",
    "print(f\"S = {(m+1-m)/s*sq*s:.2f}\")"
   ]
  },
  {
   "cell_type": "markdown",
   "metadata": {},
   "source": [
    "# Zadanie 4\n",
    "\n",
    "Wytrzymałość pewnego materiału budowlanego jest zmienną losową o rozkładzie N(m,1). W celu\n",
    "oszacowania nieznanej średniej wytrzymałości tego materiału dokonano pomiaru wytrzymałości 5\n",
    "wylosowanych niezależnie sztuk tego materiału. Wyniki pomiarów: 20,4; 19,6; 22,1; 20,8, 21,1.\n",
    "Przyjmując współczynnik ufności alfa 0,90, zbudować przedział ufności dla średniej wytrzymałości\n",
    "badanego materiału."
   ]
  },
  {
   "cell_type": "code",
   "execution_count": 4,
   "metadata": {},
   "outputs": [
    {
     "name": "stdout",
     "output_type": "stream",
     "text": [
      "Przedział ufności dla średniej wytrzymałości: (19.9, 21.7)\n"
     ]
    }
   ],
   "source": [
    "from scipy.stats import t\n",
    "\n",
    "x = [20.4, 19.6, 22.1, 20.8, 21.1]\n",
    "alpha = 0.90\n",
    "\n",
    "n = len(x)\n",
    "mean = sum(x) / n\n",
    "std_dev = math.sqrt(sum([(xi-mean)**2 for xi in x]) / (n-1))\n",
    "t_critical = t.ppf((1+alpha)/2, n-1)\n",
    "margin_error = t_critical * std_dev / math.sqrt(n)\n",
    "confidence_interval = (round(mean - margin_error,1), round(mean + margin_error,1))\n",
    "print(f\"Przedział ufności dla średniej wytrzymałości: {confidence_interval}\")"
   ]
  },
  {
   "cell_type": "markdown",
   "metadata": {},
   "source": [
    "# Zadanie 5\n",
    "\n",
    "Na podstawie wielokrotnych obserwacji ustalono, że rozkład czasu dojazdu do pracy osób\n",
    "zatrudnionych w sklepach stołecznych jest rozkładem normalnym. W celu oszacowania nieznanej\n",
    "średniej w tym rozkładzie wylosowane niezależnie 100 – elementową próbę pracowników. Średni czas\n",
    "dojazdu w tej próbie wynosił 40min a odchylenie standardowe stanowiło ½ czasu średniego.\n",
    "Jaki współczynnik ufności przyjęto przy szacowaniu średniej w rozkładzie, jeżeli długość\n",
    "oszacowanego przedziału wynosiła 7,84 min."
   ]
  },
  {
   "cell_type": "code",
   "execution_count": 5,
   "metadata": {},
   "outputs": [
    {
     "name": "stdout",
     "output_type": "stream",
     "text": [
      "Współczynnik ufności: 0.96\n"
     ]
    }
   ],
   "source": [
    "n = 100\n",
    "x_bar = 40\n",
    "s = 0.5 * x_bar\n",
    "se = s / (n ** 0.5)\n",
    "L = 7.84\n",
    "\n",
    "# obliczenie przedziału ufności\n",
    "alpha = abs(1 - L / (2 * se))\n",
    "\n",
    "# wyświetlenie wyniku\n",
    "print(f\"Współczynnik ufności: {alpha:.2f}\")"
   ]
  },
  {
   "cell_type": "markdown",
   "metadata": {},
   "source": [
    "# Zadanie 6\n",
    "\n",
    "Średnia frekwencja widzów w kinie na seansie filmowym ma rozkład N(m,40). Na podstawie 25\n",
    "losowo wybranych seansów oszacowano przedział liczbowy (184,216) dla średniej liczby osób na\n",
    "seansie. Ile wynosiła średnia liczba widzów w zbadanej próbie 25 seansów kinowych."
   ]
  },
  {
   "cell_type": "code",
   "execution_count": 6,
   "metadata": {},
   "outputs": [
    {
     "name": "stdout",
     "output_type": "stream",
     "text": [
      "Średnia liczba widzów w próbie: 200.00\n"
     ]
    }
   ],
   "source": [
    "n = 25\n",
    "df = n-1\n",
    "o = 40\n",
    "a = 0.05\n",
    "p = (184, 216)\n",
    "\n",
    "sr = sum(p)/2\n",
    "print(f\"Średnia liczba widzów w próbie: {sr:.2f}\")"
   ]
  },
  {
   "cell_type": "markdown",
   "metadata": {},
   "source": [
    "# Zadanie 7\n",
    "\n",
    "W instytucie chemii przeprowadzano badania czasu trwania pewnej reakcji. W tym celu wykonano 10\n",
    "niezależnych prób tego eksperymentu, otrzymując następujące wyniki ( w sekundach): 9, 14, 10, 12, 7,\n",
    "13, 11, 12, 10, 8. Wiedząc, że w określonych warunkach badany czas reakcji jest zmienną losową o\n",
    "rozkładzie normalnym\n",
    "\n",
    "a) Oszacować przedziałowo średni czas trwania badanej reakcji, przyjmując współczynnik\n",
    "ufności na poziomie 0,95\n",
    "b) Ustalić, jak zmieni się precyzja oszacowania średniej, jeżeli wielkość próby zwiększymy\n",
    "czterokrotnie"
   ]
  },
  {
   "cell_type": "code",
   "execution_count": 7,
   "metadata": {},
   "outputs": [
    {
     "name": "stdout",
     "output_type": "stream",
     "text": [
      "Przedział ufności: (9.0, 12.2)\n",
      "Zmiana precyzji oszacowania średniej: 2.0\n"
     ]
    }
   ],
   "source": [
    "\n",
    "d = [9, 14, 10, 12, 7, 13, 11, 12, 10, 8]\n",
    "pu = 0.95\n",
    "n = len(d)\n",
    "s = np.mean(d)\n",
    "os = np.std(d,ddof=1)\n",
    "tc = t.ppf((1+pu)/2,df=n-1)\n",
    "mb = tc*os/np.sqrt(n)\n",
    "\n",
    "ci = (round(s-mb,1),round(s+mb,1))\n",
    "\n",
    "print(f\"Przedział ufności: {ci}\")\n",
    "\n",
    "d2 = np.random.normal(loc=s,scale=os,size=40)\n",
    "s2 = np.mean(d2)\n",
    "os2 = np.std(d2,ddof=1)\n",
    "x=os/os2\n",
    "sr = np.sqrt(4)\n",
    "zp = x*sr\n",
    "print(f\"Zmiana precyzji oszacowania średniej: {round(zp,0)}\")"
   ]
  }
 ],
 "metadata": {
  "kernelspec": {
   "display_name": "Python 3 (ipykernel)",
   "language": "python",
   "name": "python3"
  },
  "language_info": {
   "codemirror_mode": {
    "name": "ipython",
    "version": 3
   },
   "file_extension": ".py",
   "mimetype": "text/x-python",
   "name": "python",
   "nbconvert_exporter": "python",
   "pygments_lexer": "ipython3",
   "version": "3.10.0"
  }
 },
 "nbformat": 4,
 "nbformat_minor": 1
}
