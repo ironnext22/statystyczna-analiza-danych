{
 "cells": [
  {
   "cell_type": "code",
   "execution_count": 1,
   "metadata": {},
   "outputs": [
    {
     "data": {
      "text/plain": "   Lany Kuty Lany.1 Kuty.1\n1   343  434    374    670\n2   298  401    475    673\n3   336  450    456    654\n4   337  343    422    685\n5   392  440    488    682\n6   335  433    437    648\n7   353  403    429    664\n8   341  427    446    685\n9   346  401    419    692\n10  340  417    433    660\n11  375  407    466    692\n12  362  413    418    710\n13  368  438    444    659\n14  353  411    444    682\n15  301  429    429    706\n16  350  403    454    659\n17  346  441    450    666\n18  310  424    446    655\n19  329  420    420    663\n20  349  413    457    678\n21  359  430    425    642\n22  369  444    419    697\n23  336  418    433    668\n24  331  425    462    640\n25  329  436    469    623\n26  340  425    442    686\n27  341  449    408    657\n28  360  423    424    652\n29  322  413    473    688\n30  333  411    455    700\n31  341  423    418    656\n32  379  439    452    684\n33  384  459    420    649\n34  308  440    426    647\n35  307  424    421    660\n36  354  394    455    699\n37  369  412    427    667\n38  298  403    428    691\n39  374  427    421    660\n40  325  447    438    691\n41  359  411    460    689\n42  342  408    461    668\n43  323  401    408    649\n44  374  429    422    660\n45  361  423    430    688\n46  333  433    451    675\n47  339  459    436    650\n48  345  392    427    703\n49  338  422    435    640",
      "text/html": "<div>\n<style scoped>\n    .dataframe tbody tr th:only-of-type {\n        vertical-align: middle;\n    }\n\n    .dataframe tbody tr th {\n        vertical-align: top;\n    }\n\n    .dataframe thead th {\n        text-align: right;\n    }\n</style>\n<table border=\"1\" class=\"dataframe\">\n  <thead>\n    <tr style=\"text-align: right;\">\n      <th></th>\n      <th>Lany</th>\n      <th>Kuty</th>\n      <th>Lany.1</th>\n      <th>Kuty.1</th>\n    </tr>\n  </thead>\n  <tbody>\n    <tr>\n      <th>1</th>\n      <td>343</td>\n      <td>434</td>\n      <td>374</td>\n      <td>670</td>\n    </tr>\n    <tr>\n      <th>2</th>\n      <td>298</td>\n      <td>401</td>\n      <td>475</td>\n      <td>673</td>\n    </tr>\n    <tr>\n      <th>3</th>\n      <td>336</td>\n      <td>450</td>\n      <td>456</td>\n      <td>654</td>\n    </tr>\n    <tr>\n      <th>4</th>\n      <td>337</td>\n      <td>343</td>\n      <td>422</td>\n      <td>685</td>\n    </tr>\n    <tr>\n      <th>5</th>\n      <td>392</td>\n      <td>440</td>\n      <td>488</td>\n      <td>682</td>\n    </tr>\n    <tr>\n      <th>6</th>\n      <td>335</td>\n      <td>433</td>\n      <td>437</td>\n      <td>648</td>\n    </tr>\n    <tr>\n      <th>7</th>\n      <td>353</td>\n      <td>403</td>\n      <td>429</td>\n      <td>664</td>\n    </tr>\n    <tr>\n      <th>8</th>\n      <td>341</td>\n      <td>427</td>\n      <td>446</td>\n      <td>685</td>\n    </tr>\n    <tr>\n      <th>9</th>\n      <td>346</td>\n      <td>401</td>\n      <td>419</td>\n      <td>692</td>\n    </tr>\n    <tr>\n      <th>10</th>\n      <td>340</td>\n      <td>417</td>\n      <td>433</td>\n      <td>660</td>\n    </tr>\n    <tr>\n      <th>11</th>\n      <td>375</td>\n      <td>407</td>\n      <td>466</td>\n      <td>692</td>\n    </tr>\n    <tr>\n      <th>12</th>\n      <td>362</td>\n      <td>413</td>\n      <td>418</td>\n      <td>710</td>\n    </tr>\n    <tr>\n      <th>13</th>\n      <td>368</td>\n      <td>438</td>\n      <td>444</td>\n      <td>659</td>\n    </tr>\n    <tr>\n      <th>14</th>\n      <td>353</td>\n      <td>411</td>\n      <td>444</td>\n      <td>682</td>\n    </tr>\n    <tr>\n      <th>15</th>\n      <td>301</td>\n      <td>429</td>\n      <td>429</td>\n      <td>706</td>\n    </tr>\n    <tr>\n      <th>16</th>\n      <td>350</td>\n      <td>403</td>\n      <td>454</td>\n      <td>659</td>\n    </tr>\n    <tr>\n      <th>17</th>\n      <td>346</td>\n      <td>441</td>\n      <td>450</td>\n      <td>666</td>\n    </tr>\n    <tr>\n      <th>18</th>\n      <td>310</td>\n      <td>424</td>\n      <td>446</td>\n      <td>655</td>\n    </tr>\n    <tr>\n      <th>19</th>\n      <td>329</td>\n      <td>420</td>\n      <td>420</td>\n      <td>663</td>\n    </tr>\n    <tr>\n      <th>20</th>\n      <td>349</td>\n      <td>413</td>\n      <td>457</td>\n      <td>678</td>\n    </tr>\n    <tr>\n      <th>21</th>\n      <td>359</td>\n      <td>430</td>\n      <td>425</td>\n      <td>642</td>\n    </tr>\n    <tr>\n      <th>22</th>\n      <td>369</td>\n      <td>444</td>\n      <td>419</td>\n      <td>697</td>\n    </tr>\n    <tr>\n      <th>23</th>\n      <td>336</td>\n      <td>418</td>\n      <td>433</td>\n      <td>668</td>\n    </tr>\n    <tr>\n      <th>24</th>\n      <td>331</td>\n      <td>425</td>\n      <td>462</td>\n      <td>640</td>\n    </tr>\n    <tr>\n      <th>25</th>\n      <td>329</td>\n      <td>436</td>\n      <td>469</td>\n      <td>623</td>\n    </tr>\n    <tr>\n      <th>26</th>\n      <td>340</td>\n      <td>425</td>\n      <td>442</td>\n      <td>686</td>\n    </tr>\n    <tr>\n      <th>27</th>\n      <td>341</td>\n      <td>449</td>\n      <td>408</td>\n      <td>657</td>\n    </tr>\n    <tr>\n      <th>28</th>\n      <td>360</td>\n      <td>423</td>\n      <td>424</td>\n      <td>652</td>\n    </tr>\n    <tr>\n      <th>29</th>\n      <td>322</td>\n      <td>413</td>\n      <td>473</td>\n      <td>688</td>\n    </tr>\n    <tr>\n      <th>30</th>\n      <td>333</td>\n      <td>411</td>\n      <td>455</td>\n      <td>700</td>\n    </tr>\n    <tr>\n      <th>31</th>\n      <td>341</td>\n      <td>423</td>\n      <td>418</td>\n      <td>656</td>\n    </tr>\n    <tr>\n      <th>32</th>\n      <td>379</td>\n      <td>439</td>\n      <td>452</td>\n      <td>684</td>\n    </tr>\n    <tr>\n      <th>33</th>\n      <td>384</td>\n      <td>459</td>\n      <td>420</td>\n      <td>649</td>\n    </tr>\n    <tr>\n      <th>34</th>\n      <td>308</td>\n      <td>440</td>\n      <td>426</td>\n      <td>647</td>\n    </tr>\n    <tr>\n      <th>35</th>\n      <td>307</td>\n      <td>424</td>\n      <td>421</td>\n      <td>660</td>\n    </tr>\n    <tr>\n      <th>36</th>\n      <td>354</td>\n      <td>394</td>\n      <td>455</td>\n      <td>699</td>\n    </tr>\n    <tr>\n      <th>37</th>\n      <td>369</td>\n      <td>412</td>\n      <td>427</td>\n      <td>667</td>\n    </tr>\n    <tr>\n      <th>38</th>\n      <td>298</td>\n      <td>403</td>\n      <td>428</td>\n      <td>691</td>\n    </tr>\n    <tr>\n      <th>39</th>\n      <td>374</td>\n      <td>427</td>\n      <td>421</td>\n      <td>660</td>\n    </tr>\n    <tr>\n      <th>40</th>\n      <td>325</td>\n      <td>447</td>\n      <td>438</td>\n      <td>691</td>\n    </tr>\n    <tr>\n      <th>41</th>\n      <td>359</td>\n      <td>411</td>\n      <td>460</td>\n      <td>689</td>\n    </tr>\n    <tr>\n      <th>42</th>\n      <td>342</td>\n      <td>408</td>\n      <td>461</td>\n      <td>668</td>\n    </tr>\n    <tr>\n      <th>43</th>\n      <td>323</td>\n      <td>401</td>\n      <td>408</td>\n      <td>649</td>\n    </tr>\n    <tr>\n      <th>44</th>\n      <td>374</td>\n      <td>429</td>\n      <td>422</td>\n      <td>660</td>\n    </tr>\n    <tr>\n      <th>45</th>\n      <td>361</td>\n      <td>423</td>\n      <td>430</td>\n      <td>688</td>\n    </tr>\n    <tr>\n      <th>46</th>\n      <td>333</td>\n      <td>433</td>\n      <td>451</td>\n      <td>675</td>\n    </tr>\n    <tr>\n      <th>47</th>\n      <td>339</td>\n      <td>459</td>\n      <td>436</td>\n      <td>650</td>\n    </tr>\n    <tr>\n      <th>48</th>\n      <td>345</td>\n      <td>392</td>\n      <td>427</td>\n      <td>703</td>\n    </tr>\n    <tr>\n      <th>49</th>\n      <td>338</td>\n      <td>422</td>\n      <td>435</td>\n      <td>640</td>\n    </tr>\n  </tbody>\n</table>\n</div>"
     },
     "execution_count": 1,
     "metadata": {},
     "output_type": "execute_result"
    }
   ],
   "source": [
    "import pandas as pd\n",
    "import scipy.stats as st\n",
    "import matplotlib.pyplot as plt\n",
    "import numpy as np\n",
    "import seaborn as sns\n",
    "from bioinfokit.analys import stat\n",
    "import pingouin as pg\n",
    "dane = pd.read_excel(\"C:/Users/wikto/Downloads/Macierze_Twardości (2).xlsx\")\n",
    "pom = dane.drop(0)\n",
    "p = pom[\"Lany\"].tolist()\n",
    "a= pom[\"Kuty\"].tolist()\n",
    "b = pom[\"Lany.1\"].tolist()\n",
    "c = pom[\"Kuty.1\"].tolist()\n",
    "r = np.concatenate([p,b])\n",
    "r1 = np.concatenate([a,c])\n",
    "pom2 = pd.DataFrame({\"twardość\":r})\n",
    "pom3 = pd.DataFrame({\"twardość\":r1})\n",
    "p = [\"Lany\" for x in range(0,49)]\n",
    "a = [\"Kuty\" for x in range(0,49)]\n",
    "b = [\"Lany\" for x in range(0,49)]\n",
    "c = [\"Kuty\" for x in range(0,49)]\n",
    "r = np.concatenate([p,b])\n",
    "r1 = np.concatenate([a,c])\n",
    "pom2[\"stan\"] = r\n",
    "pom3[\"stan\"] = r1\n",
    "p = [0.8 for x in range(0,49)]\n",
    "a = [1.2 for x in range(0,49)]\n",
    "b = [0.8 for x in range(0,49)]\n",
    "c = [1.2 for x in range(0,49)]\n",
    "r = np.concatenate([p,a])\n",
    "r1 = np.concatenate([b,c])\n",
    "pom2[\"Zawartość węgla\"] = r\n",
    "pom3[\"Zawartość węgla\"] = r1\n",
    "pom"
   ]
  },
  {
   "cell_type": "code",
   "execution_count": 2,
   "metadata": {},
   "outputs": [
    {
     "data": {
      "text/plain": "[]"
     },
     "execution_count": 2,
     "metadata": {},
     "output_type": "execute_result"
    },
    {
     "data": {
      "text/plain": "<Figure size 640x480 with 1 Axes>",
      "image/png": "[encoded data removed]"
     },
     "metadata": {},
     "output_type": "display_data"
    }
   ],
   "source": [
    "df_melt = pd.melt(pom2.reset_index(),id_vars=[\"Zawartość węgla\"],value_vars=[\"twardość\"])\n",
    "df_melt2 = pd.melt(pom3.reset_index(),id_vars=[\"Zawartość węgla\"],value_vars=[\"twardość\"])\n",
    "ax = sns.boxplot(x='Zawartość węgla', y='value', data=df_melt, color='black')\n",
    "ax = sns.swarmplot(x=\"Zawartość węgla\", y=\"value\", data=df_melt, color='white')\n",
    "ax = sns.boxplot(x='Zawartość węgla', y='value', data=df_melt2, color='red')\n",
    "ax = sns.swarmplot(x=\"Zawartość węgla\", y=\"value\", data=df_melt2, color='pink')\n",
    "plt.plot()"
   ]
  },
  {
   "cell_type": "code",
   "execution_count": 3,
   "outputs": [
    {
     "data": {
      "text/plain": "             df         sum_sq        mean_sq           F        PR(>F)\nC(Carbon)   1.0  217423.020408  217423.020408  466.333463  1.255235e-38\nResidual   96.0   44758.979592     466.239371         NaN           NaN",
      "text/html": "<div>\n<style scoped>\n    .dataframe tbody tr th:only-of-type {\n        vertical-align: middle;\n    }\n\n    .dataframe tbody tr th {\n        vertical-align: top;\n    }\n\n    .dataframe thead th {\n        text-align: right;\n    }\n</style>\n<table border=\"1\" class=\"dataframe\">\n  <thead>\n    <tr style=\"text-align: right;\">\n      <th></th>\n      <th>df</th>\n      <th>sum_sq</th>\n      <th>mean_sq</th>\n      <th>F</th>\n      <th>PR(&gt;F)</th>\n    </tr>\n  </thead>\n  <tbody>\n    <tr>\n      <th>C(Carbon)</th>\n      <td>1.0</td>\n      <td>217423.020408</td>\n      <td>217423.020408</td>\n      <td>466.333463</td>\n      <td>1.255235e-38</td>\n    </tr>\n    <tr>\n      <th>Residual</th>\n      <td>96.0</td>\n      <td>44758.979592</td>\n      <td>466.239371</td>\n      <td>NaN</td>\n      <td>NaN</td>\n    </tr>\n  </tbody>\n</table>\n</div>"
     },
     "execution_count": 3,
     "metadata": {},
     "output_type": "execute_result"
    }
   ],
   "source": [
    "df_melt.columns = ['Carbon','index', 'value']\n",
    "res = stat()\n",
    "res.anova_stat(df=df_melt,res_var=\"value\",anova_model='value ~ C(Carbon)')\n",
    "res.anova_summary"
   ],
   "metadata": {
    "collapsed": false
   }
  },
  {
   "cell_type": "code",
   "execution_count": 4,
   "outputs": [
    {
     "data": {
      "text/plain": "             df        sum_sq       mean_sq            F        PR(>F)\nC(Carbon)   1.0  1.517282e+06  1.517282e+06  3750.517351  9.567934e-79\nResidual   96.0  3.883706e+04  4.045527e+02          NaN           NaN",
      "text/html": "<div>\n<style scoped>\n    .dataframe tbody tr th:only-of-type {\n        vertical-align: middle;\n    }\n\n    .dataframe tbody tr th {\n        vertical-align: top;\n    }\n\n    .dataframe thead th {\n        text-align: right;\n    }\n</style>\n<table border=\"1\" class=\"dataframe\">\n  <thead>\n    <tr style=\"text-align: right;\">\n      <th></th>\n      <th>df</th>\n      <th>sum_sq</th>\n      <th>mean_sq</th>\n      <th>F</th>\n      <th>PR(&gt;F)</th>\n    </tr>\n  </thead>\n  <tbody>\n    <tr>\n      <th>C(Carbon)</th>\n      <td>1.0</td>\n      <td>1.517282e+06</td>\n      <td>1.517282e+06</td>\n      <td>3750.517351</td>\n      <td>9.567934e-79</td>\n    </tr>\n    <tr>\n      <th>Residual</th>\n      <td>96.0</td>\n      <td>3.883706e+04</td>\n      <td>4.045527e+02</td>\n      <td>NaN</td>\n      <td>NaN</td>\n    </tr>\n  </tbody>\n</table>\n</div>"
     },
     "execution_count": 4,
     "metadata": {},
     "output_type": "execute_result"
    }
   ],
   "source": [
    "df_melt2.columns = ['Carbon','index', 'value']\n",
    "res = stat()\n",
    "res.anova_stat(df=df_melt2,res_var=\"value\",anova_model='value ~ C(Carbon)')\n",
    "res.anova_summary"
   ],
   "metadata": {
    "collapsed": false
   }
  },
  {
   "cell_type": "code",
   "execution_count": 5,
   "metadata": {},
   "outputs": [
    {
     "name": "stdout",
     "output_type": "stream",
     "text": [
      "p=0.7700852261263589\n",
      "Wariancje nie są zdecydowanie różne\n"
     ]
    }
   ],
   "source": [
    "g1 = pom[\"Lany\"].tolist()\n",
    "g2 = pom[\"Kuty\"].tolist()\n",
    "g3 = pom[\"Lany.1\"].tolist()\n",
    "g4 = pom[\"Kuty.1\"].tolist()\n",
    "t,p = st.levene(g1,g2,g3,g4)\n",
    "print(f\"{p=}\")\n",
    "if p < 0.05:\n",
    "    print(\"Wariancje są zdecydowanie różne\")\n",
    "else:\n",
    "    print(\"Wariancje nie są zdecydowanie różne\")"
   ]
  },
  {
   "cell_type": "markdown",
   "metadata": {},
   "source": [
    "Test spełnia podane założenia, wraz ze wzrostem zawartości węgla rośnie twardość, a wraz ze zmianą stanu z lanego na kuty twardość wyraźnie się zwiększa"
   ]
  },
  {
   "cell_type": "code",
   "execution_count": 6,
   "outputs": [
    {
     "name": "stdout",
     "output_type": "stream",
     "text": [
      "grupa 1: p=0.5398104190826416\n",
      "Grupa 1 spełnia rozkład normalny\n",
      "\n",
      "grupa 2: p=0.007406128104776144\n",
      "Grupa 2 nie spełnia rozkładu normalnego\n",
      "\n",
      "grupa 3: p=0.2012287825345993\n",
      "Grupa 3 spełnia rozkład normalny\n",
      "\n",
      "grupa 4: p=0.3735889792442322\n",
      "Grupa 4 spełnia rozkład normalny\n"
     ]
    }
   ],
   "source": [
    "t,p = st.shapiro(g1)\n",
    "print(f\"grupa 1: {p=}\")\n",
    "if p>0.05:\n",
    "    print(\"Grupa 1 spełnia rozkład normalny\")\n",
    "else:\n",
    "    print(\"Grupa 1 nie spełnia rozkładu normalnego\")\n",
    "print(\"\")\n",
    "t,p = st.shapiro(g2)\n",
    "print(f\"grupa 2: {p=}\")\n",
    "if p>0.05:\n",
    "    print(\"Grupa 2 spełnia rozkład normalny\")\n",
    "else:\n",
    "    print(\"Grupa 2 nie spełnia rozkładu normalnego\")\n",
    "print(\"\")\n",
    "t,p = st.shapiro(g3)\n",
    "print(f\"grupa 3: {p=}\")\n",
    "if p>0.05:\n",
    "    print(\"Grupa 3 spełnia rozkład normalny\")\n",
    "else:\n",
    "    print(\"Grupa 3 nie spełnia rozkładu normalnego\")\n",
    "\n",
    "print(\"\")\n",
    "t,p = st.shapiro(g4)\n",
    "print(f\"grupa 4: {p=}\")\n",
    "if p>0.05:\n",
    "    print(\"Grupa 4 spełnia rozkład normalny\")\n",
    "else:\n",
    "    print(\"Grupa 4 nie spełnia rozkładu normalnego\")\n"
   ],
   "metadata": {
    "collapsed": false
   }
  },
  {
   "cell_type": "code",
   "execution_count": 7,
   "outputs": [
    {
     "name": "stdout",
     "output_type": "stream",
     "text": [
      "TEST POST-HOC - Test TUKEY'A:\n",
      "   Contrast   A   B  Paired  Parametric          T   dof alternative         p-unc        p-corr p-adjust       BF10     hedges\n",
      "0    group  g1  g2   False        True -18.278945  96.0   two-sided  5.011622e-33  3.006973e-32     bonf  3.185e+29  -3.663978\n",
      "1    group  g1  g3   False        True -21.594755  96.0   two-sided  1.255235e-38  7.531412e-38     bonf  1.017e+35  -4.328626\n",
      "2    group  g1  g4   False        True -76.141620  96.0   two-sided  1.213679e-87  7.282073e-87     bonf  2.568e+83 -15.262437\n",
      "3    group  g2  g3   False        True  -3.874811  96.0   two-sided  1.950545e-04  1.170327e-03     bonf    122.516  -0.776698\n",
      "4    group  g2  g4   False        True -61.241468  96.0   two-sided  9.567934e-79  5.740760e-78     bonf  4.082e+74 -12.275731\n",
      "5    group  g3  g4   False        True -56.064333  96.0   two-sided  3.664516e-75  2.198710e-74     bonf  1.169e+71 -11.237985 \n",
      "\n",
      "Istnieją istotne statystycznie różnice między grupami g1 g2\n",
      "Istnieją istotne statystycznie różnice między grupami g1 g2\n",
      "Istnieją istotne statystycznie różnice między grupami g1 g2\n",
      "Istnieją istotne statystycznie różnice między grupami g1 g2\n",
      "Istnieją istotne statystycznie różnice między grupami g1 g2\n",
      "Istnieją istotne statystycznie różnice między grupami g1 g2\n"
     ]
    }
   ],
   "source": [
    "    g1 = pom[\"Lany\"].tolist()\n",
    "    g2 = pom[\"Kuty\"].tolist()\n",
    "    g3 = pom[\"Lany.1\"].tolist()\n",
    "    g4 = pom[\"Kuty.1\"].tolist()\n",
    "\n",
    "    # Przeprowadzony test post-hoc TUKEY'A:\n",
    "    df = pd.DataFrame({'value': g1 + g2 + g3 + g4,'group': ['g1'] * len(g1) + ['g2'] * len(g2) + ['g3'] * len(g3) + ['g4'] * len(g4)})\n",
    "    tukey = pg.pairwise_tests(data=df, dv='value', between='group', alpha=0.05, padjust='bonf')\n",
    "    print(\"TEST POST-HOC - Test TUKEY'A:\\n\",tukey.to_string(),\"\\n\")\n",
    "\n",
    "    alfa = 0.05 # poziom istotności\n",
    "    p_values = list(tukey['p-corr'])    # p-value po korekcie wielokrotnej próby\n",
    "\n",
    "    lista_polaczona = []\n",
    "    for i in range(len(p_values)):\n",
    "        lista_polaczona.append(tukey['A'][0] + \" \" + tukey['B'][0])\n",
    "\n",
    "    j = 0\n",
    "    for i in p_values:\n",
    "        if i < alfa:\n",
    "            print(\"Istnieją istotne statystycznie różnice między grupami {}\".format(lista_polaczona[j]))\n",
    "        else:\n",
    "            print(\"Nie istnieją istotne statystycznie różnice między grupami {}\".format(lista_polaczona[j]))\n",
    "        j = j + 1"
   ],
   "metadata": {
    "collapsed": false
   }
  },
  {
   "cell_type": "code",
   "execution_count": 8,
   "outputs": [
    {
     "data": {
      "text/plain": "                    Lany        Kuty      Lany_2      Kuty_2\nstop:           0.800000    0.800000    1.200000    1.200000\nśrednia twr.  343.612245  421.795918  437.816327  670.653061",
      "text/html": "<div>\n<style scoped>\n    .dataframe tbody tr th:only-of-type {\n        vertical-align: middle;\n    }\n\n    .dataframe tbody tr th {\n        vertical-align: top;\n    }\n\n    .dataframe thead th {\n        text-align: right;\n    }\n</style>\n<table border=\"1\" class=\"dataframe\">\n  <thead>\n    <tr style=\"text-align: right;\">\n      <th></th>\n      <th>Lany</th>\n      <th>Kuty</th>\n      <th>Lany_2</th>\n      <th>Kuty_2</th>\n    </tr>\n  </thead>\n  <tbody>\n    <tr>\n      <th>stop:</th>\n      <td>0.800000</td>\n      <td>0.800000</td>\n      <td>1.200000</td>\n      <td>1.200000</td>\n    </tr>\n    <tr>\n      <th>średnia twr.</th>\n      <td>343.612245</td>\n      <td>421.795918</td>\n      <td>437.816327</td>\n      <td>670.653061</td>\n    </tr>\n  </tbody>\n</table>\n</div>"
     },
     "execution_count": 8,
     "metadata": {},
     "output_type": "execute_result"
    }
   ],
   "source": [
    "p = pd.DataFrame({\"Lany\":[0.8,pom[\"Lany\"].mean()]})\n",
    "p[\"Kuty\"] = [0.8,pom[\"Kuty\"].mean()]\n",
    "p[\"Lany_2\"] = [1.2,pom[\"Lany.1\"].mean()]\n",
    "p[\"Kuty_2\"] = [1.2,pom[\"Kuty.1\"].mean()]\n",
    "p.index=[\"stop:\",\"średnia twr.\"]\n",
    "p"
   ],
   "metadata": {
    "collapsed": false
   }
  }
 ],
 "metadata": {
  "kernelspec": {
   "display_name": "Python 3 (ipykernel)",
   "language": "python",
   "name": "python3"
  },
  "language_info": {
   "codemirror_mode": {
    "name": "ipython",
    "version": 3
   },
   "file_extension": ".py",
   "mimetype": "text/x-python",
   "name": "python",
   "nbconvert_exporter": "python",
   "pygments_lexer": "ipython3",
   "version": "3.8.16"
  }
 },
 "nbformat": 4,
 "nbformat_minor": 1
}
