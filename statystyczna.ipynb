{
 "cells": [
  {
   "cell_type": "code",
   "execution_count": 1,
   "outputs": [],
   "source": [
    "from scipy import stats as st\n",
    "import numpy as np\n",
    "import math"
   ],
   "metadata": {
    "collapsed": false
   }
  },
  {
   "cell_type": "markdown",
   "source": [
    "**Zadanie 1**\n",
    "Wiedząc, że funkcja gęstości zmiennej losowej X jest następująca:\n",
    "\n",
    "$f(x)$= $\\begin{cases}\n",
    " 0\\ \\ dla\\ x<0\\\\\n",
    "3x^2 \\ \\ dla\\ 0 \\leq x \\leq 1&\\\\\n",
    "0\\ \\ dla \\ x>1 \\end{cases}$\n",
    "\n",
    "\n",
    "a) Wyznacz dystrybuantę rozkładu\n",
    "b) Oblicz prawdopodobieństwo tego, że X przyjmie wartość od 0 do 0,5"
   ],
   "metadata": {
    "collapsed": false
   }
  },
  {
   "cell_type": "code",
   "execution_count": 1,
   "outputs": [],
   "source": [],
   "metadata": {
    "collapsed": false
   }
  },
  {
   "cell_type": "markdown",
   "source": [
    "**Zadanie 2**\n",
    "Miesięczne spożycie owoców na jedną osobę (w kg) w pracowniczych gospodarstwach domowych\n",
    "opisano następującą funkcją gęstości:\n",
    "\n",
    "$f(x)$= $\\begin{cases}\n",
    " 0\\ dla\\ x<0\\\\\n",
    "\\frac{1}{64}x^2 \\ dla\\ &0 \\leq x \\leq 4&\\\\\n",
    "0\\ dla \\ x>4 \\end{cases}$\n",
    "\n",
    "Oblicz następujące parametry spożycia owoców w tych gospodarstwach:\n",
    "a) Wartość oczekiwana\n",
    "b) Wariancję, odchylenie standardowe i współczynnik zmienności"
   ],
   "metadata": {
    "collapsed": false
   }
  },
  {
   "cell_type": "code",
   "execution_count": 1,
   "outputs": [],
   "source": [],
   "metadata": {
    "collapsed": false
   }
  },
  {
   "cell_type": "markdown",
   "source": [
    "**Zadanie 3**\n",
    "Zmienna losowa ma rozkład normalny z m=50 i α=5. Korzystając z tablic dystrybuanty rozkładu\n",
    "normalnego, wyznaczyć wartości x0 dla których:\n",
    "a) $P(X≤ x0)$=0,5 , b) $P(X≥ x0)$ = 0,0735, c) $P(X≥ x0)$ = 0,7703"
   ],
   "metadata": {
    "collapsed": false
   }
  },
  {
   "cell_type": "code",
   "execution_count": 2,
   "outputs": [
    {
     "name": "stdout",
     "output_type": "stream",
     "text": [
      "A: 0.0\n",
      "B: 42.75\n",
      "C: 53.7\n"
     ]
    }
   ],
   "source": [
    "m=50\n",
    "a=5\n",
    "x1=st.norm.pdf(0.5,loc=m,scale=a)\n",
    "x2=st.norm.isf(1- 0.0735,loc=m,scale=a)\n",
    "x3=st.norm.isf(1-0.7703,loc=m,scale=a)\n",
    "print(f\"A: {round(x1,2)}\")\n",
    "print(f\"B: {round(x2,2)}\")\n",
    "print(f\"C: {round(x3,2)}\")"
   ],
   "metadata": {
    "collapsed": false
   }
  },
  {
   "cell_type": "markdown",
   "source": [
    "**Zadanie 4**\n",
    "Asystent prowadzący zajęcia ze statystycznej analizy danych przychodzi do sali na ogół na pięć minut\n",
    "po wyznaczonym czasie rozpoczęcia zajęć. Zakładając, że czas przyjścia jest zmienną losową o\n",
    "rozkładzie normalnym z σ = 5 min, określ, jakie jest prawdopodobieństwo przyjścia asystenta na czas."
   ],
   "metadata": {
    "collapsed": false
   }
  },
  {
   "cell_type": "code",
   "execution_count": 3,
   "outputs": [
    {
     "name": "stdout",
     "output_type": "stream",
     "text": [
      "Prawdopodobieństwo, że prowadzący będzie na czas: 15.87\n"
     ]
    }
   ],
   "source": [
    "a = 5\n",
    "m = 5\n",
    "cz = 0\n",
    "w = st.norm.cdf(cz,loc=m,scale=a)\n",
    "print(f\"Prawdopodobieństwo, że prowadzący będzie na czas: {round(w*100,2)}\")"
   ],
   "metadata": {
    "collapsed": false
   }
  },
  {
   "cell_type": "markdown",
   "source": [
    "**Zadanie 5**\n",
    "Waga wsadu w nowej generacji kadzi torpedo jest zmienną losową o rozkładzie N(300,5) . Jakie jest\n",
    "prawdopodobieństwo tego, że waga losowo przewiezionego wsadu będzie niższa o więcej niż\n",
    "odchylenie standardowe od wagi przeciętnej."
   ],
   "metadata": {
    "collapsed": false
   }
  },
  {
   "cell_type": "code",
   "execution_count": 3,
   "outputs": [],
   "source": [],
   "metadata": {
    "collapsed": false
   }
  },
  {
   "cell_type": "markdown",
   "source": [
    "**Zadanie 6**\n",
    "Błąd pomiaru pewnym urządzeniem ma rozkład normalny o wartości średniej zero (pomiar\n",
    "nieobciążony) i odchyleniu standardowym 20mm. Ile co najmniej należy wykonać pomiarów, by z\n",
    "prawdopodobieństwem co najmniej 0,99 błąd jednego z nich nie przekroczył 4mm."
   ],
   "metadata": {
    "collapsed": false
   }
  },
  {
   "cell_type": "code",
   "execution_count": 4,
   "outputs": [
    {
     "name": "stdout",
     "output_type": "stream",
     "text": [
      "Minimalna liczba pomiarów wynosi: 26\n"
     ]
    }
   ],
   "source": [
    "s = 0\n",
    "os = 20\n",
    "mb = 4\n",
    "pmin = 0.99\n",
    "n = math.ceil(1/(pmin*(mb/os)**2))\n",
    "print(\"Minimalna liczba pomiarów wynosi:\", n)"
   ],
   "metadata": {
    "collapsed": false
   }
  },
  {
   "cell_type": "markdown",
   "source": [
    "**Zadanie 7**\n",
    "Wzrost dzieci jest zmienną losową o rozkładzie normalnym o wartości średniej 110cm i wariancji 400.\n",
    "Obliczyć prawdopodobieństwo, że przynajmniej jedno z trójki losowo wybranych dzieci będzie miało\n",
    "wzrost większy od przeciętnej."
   ],
   "metadata": {
    "collapsed": false
   }
  },
  {
   "cell_type": "code",
   "execution_count": 5,
   "outputs": [
    {
     "name": "stdout",
     "output_type": "stream",
     "text": [
      "Prawdopodobieństwo, że przynajmniej jedno dziecko ma wzrost większy od przeciętnej: 87.5%\n"
     ]
    }
   ],
   "source": [
    "w = 400\n",
    "os = np.sqrt(w)\n",
    "wpp = 1 - st.norm.cdf(110,loc=110,scale=os)\n",
    "pjpp = 1 - (1 - wpp) ** 3\n",
    "sc = round(pjpp*100,2)\n",
    "print(f\"Prawdopodobieństwo, że przynajmniej jedno dziecko ma wzrost większy od przeciętnej: {sc}%\")"
   ],
   "metadata": {
    "collapsed": false
   }
  },
  {
   "cell_type": "markdown",
   "source": [
    "**Zadanie 8**\n",
    "Średnica nitu ma rozkład normalny o wartości oczekiwanej 2mm i wariancji 0,01. Obliczyć\n",
    "prawdopodobieństwo, że wśród trzech losowo pobranych nitów wszystkie okażą się brakami, jeżeli za\n",
    "brak uważany jest nit o średnicy mniejszej niż 1,8mm lub większej niż 2,2m"
   ],
   "metadata": {
    "collapsed": false
   }
  },
  {
   "cell_type": "code",
   "execution_count": 6,
   "outputs": [
    {
     "name": "stdout",
     "output_type": "stream",
     "text": [
      "Prawdopodobieństwo, że wszystkie trzy nitki okażą się brakami: 0.0094%\n"
     ]
    }
   ],
   "source": [
    "w = 0.01\n",
    "os = np.sqrt(w)\n",
    "pp = st.norm.cdf(1.8, loc=2, scale=os) + (1 - st.norm.cdf(2.2, loc=2, scale=os))\n",
    "pw = pp ** 3\n",
    "sc = round(pw * 100, 4)\n",
    "print(f\"Prawdopodobieństwo, że wszystkie trzy nitki okażą się brakami: {sc}%\")"
   ],
   "metadata": {
    "collapsed": false
   }
  },
  {
   "cell_type": "markdown",
   "source": [
    "**Zadanie 9**\n",
    "Ciężar wlewka stalowego jest zmienną losową o rozkładzie normalnym o wartości średniej 10t i\n",
    "wariancji 4. Obliczyć prawdopodobieństwo, że z trzech losowo analizowanych wlewków wszystkie\n",
    "będą miały ciężar poniżej przeciętnej."
   ],
   "metadata": {
    "collapsed": false
   }
  },
  {
   "cell_type": "code",
   "execution_count": 7,
   "outputs": [
    {
     "name": "stdout",
     "output_type": "stream",
     "text": [
      "Prawdopodobieństwo, że wszystkie wlewki będą miały ciężar poniżej średniej: 12.5%\n"
     ]
    }
   ],
   "source": [
    "s=10\n",
    "w=4\n",
    "os=np.sqrt(w)\n",
    "pp = st.norm.cdf(s,loc=s,scale=os)\n",
    "pw = pp ** 3\n",
    "w = round(pw*100,2)\n",
    "print(f\"Prawdopodobieństwo, że wszystkie wlewki będą miały ciężar poniżej średniej: {w}%\")"
   ],
   "metadata": {
    "collapsed": false
   }
  },
  {
   "cell_type": "code",
   "execution_count": 7,
   "outputs": [],
   "source": [],
   "metadata": {
    "collapsed": false
   }
  },
  {
   "cell_type": "markdown",
   "source": [
    "**Zadanie 10**\n",
    "Średni czas dmuchu dla wielkiego pieca wynosi 17min. W momencie gdy ten czas spada poniżej\n",
    "12min powoduje to słaby stopień przetopu wsadu. Jaki jest procent udanych spustów jeżeli wariancja\n",
    "wspomnianej cechy wynosi 6,25."
   ],
   "metadata": {
    "collapsed": false
   }
  },
  {
   "cell_type": "code",
   "execution_count": 8,
   "outputs": [
    {
     "name": "stdout",
     "output_type": "stream",
     "text": [
      "Procent udanych spustów: 97.72%\n"
     ]
    }
   ],
   "source": [
    "s=17\n",
    "m=12\n",
    "w=6.25\n",
    "os = np.sqrt(w)\n",
    "p = 1 - st.norm.cdf(m,loc=s,scale=os)\n",
    "sc = round(p*100,2)\n",
    "print(f\"Procent udanych spustów: {sc}%\")"
   ],
   "metadata": {
    "collapsed": false
   }
  }
 ],
 "metadata": {
  "kernelspec": {
   "display_name": "Python 3",
   "language": "python",
   "name": "python3"
  },
  "language_info": {
   "codemirror_mode": {
    "name": "ipython",
    "version": 2
   },
   "file_extension": ".py",
   "mimetype": "text/x-python",
   "name": "python",
   "nbconvert_exporter": "python",
   "pygments_lexer": "ipython2",
   "version": "2.7.6"
  }
 },
 "nbformat": 4,
 "nbformat_minor": 0
}
